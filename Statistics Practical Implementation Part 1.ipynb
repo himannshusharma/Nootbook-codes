{
 "cells": [
  {
   "cell_type": "code",
   "execution_count": 1,
   "id": "6ca553bd",
   "metadata": {},
   "outputs": [],
   "source": [
    "ages = [23,24,32,45,12,43,67,45,32,56,32,120]"
   ]
  },
  {
   "cell_type": "code",
   "execution_count": 2,
   "id": "38a9f667",
   "metadata": {},
   "outputs": [
    {
     "name": "stdout",
     "output_type": "stream",
     "text": [
      "44.25\n",
      "37.5\n"
     ]
    }
   ],
   "source": [
    "import numpy as np\n",
    "print(np.mean(ages))\n",
    "print(np.median(ages))  ## oulier se median impact nahi hota hai yadd rakhna"
   ]
  },
  {
   "cell_type": "code",
   "execution_count": 3,
   "id": "2c09213e",
   "metadata": {},
   "outputs": [
    {
     "name": "stdout",
     "output_type": "stream",
     "text": [
      "44.25\n"
     ]
    }
   ],
   "source": [
    "import statistics\n",
    "print(statistics.mean(ages))"
   ]
  },
  {
   "cell_type": "code",
   "execution_count": 4,
   "id": "64924d2c",
   "metadata": {},
   "outputs": [
    {
     "name": "stdout",
     "output_type": "stream",
     "text": [
      "32\n"
     ]
    }
   ],
   "source": [
    "import statistics\n",
    "print(statistics.mode(ages))  ## mode hum specially use karte hai jaha pe categorical values bahut jyada hoo"
   ]
  },
  {
   "cell_type": "code",
   "execution_count": 5,
   "id": "457af2af",
   "metadata": {
    "scrolled": true
   },
   "outputs": [
    {
     "name": "stderr",
     "output_type": "stream",
     "text": [
      "C:\\Users\\Himanshu Sharma\\anaconda3\\Lib\\site-packages\\pandas\\core\\arrays\\masked.py:60: UserWarning: Pandas requires version '1.3.6' or newer of 'bottleneck' (version '1.3.5' currently installed).\n",
      "  from pandas.core import (\n"
     ]
    },
    {
     "data": {
      "text/plain": [
       "<Axes: >"
      ]
     },
     "execution_count": 5,
     "metadata": {},
     "output_type": "execute_result"
    },
    {
     "data": {
      "image/png": "[encoded data removed]",
      "text/plain": [
       "<Figure size 640x480 with 1 Axes>"
      ]
     },
     "metadata": {},
     "output_type": "display_data"
    }
   ],
   "source": [
    "import seaborn as sns\n",
    "sns.boxplot(ages)"
   ]
  },
  {
   "cell_type": "code",
   "execution_count": 6,
   "id": "429817b8",
   "metadata": {},
   "outputs": [],
   "source": [
    "## 5 number summary use "
   ]
  },
  {
   "cell_type": "code",
   "execution_count": 7,
   "id": "b634c1bc",
   "metadata": {},
   "outputs": [],
   "source": [
    "import numpy as np \n",
    "q1,q3 = np.percentile(ages,[25,75])"
   ]
  },
  {
   "cell_type": "code",
   "execution_count": 8,
   "id": "9204d82e",
   "metadata": {},
   "outputs": [
    {
     "name": "stdout",
     "output_type": "stream",
     "text": [
      "30.0 47.75\n"
     ]
    }
   ],
   "source": [
    "print(q1,q3)"
   ]
  },
  {
   "cell_type": "code",
   "execution_count": 9,
   "id": "cb11f2fd",
   "metadata": {},
   "outputs": [
    {
     "name": "stdout",
     "output_type": "stream",
     "text": [
      "3.375 74.375\n"
     ]
    }
   ],
   "source": [
    "## to check outlier[lower fence and highr fence]\n",
    "\n",
    "IQR = q3-q1\n",
    "lower_fence = q1-1.5*(IQR)\n",
    "higher_fence = q3+1.5*(IQR)\n",
    "print(lower_fence,higher_fence)"
   ]
  },
  {
   "cell_type": "code",
   "execution_count": 10,
   "id": "bb4b5eae",
   "metadata": {},
   "outputs": [],
   "source": [
    "## measure of dispurtion \n",
    "## 1. variance\n",
    "## 2. standered deviation"
   ]
  },
  {
   "cell_type": "code",
   "execution_count": 11,
   "id": "4c00acca",
   "metadata": {},
   "outputs": [
    {
     "data": {
      "text/plain": [
       "795.2954545454545"
      ]
     },
     "execution_count": 11,
     "metadata": {},
     "output_type": "execute_result"
    }
   ],
   "source": [
    "statistics.variance(ages)  ## sample variance"
   ]
  },
  {
   "cell_type": "code",
   "execution_count": 12,
   "id": "ef308f4b",
   "metadata": {},
   "outputs": [
    {
     "data": {
      "text/plain": [
       "729.0208333333334"
      ]
     },
     "execution_count": 12,
     "metadata": {},
     "output_type": "execute_result"
    }
   ],
   "source": [
    "np.var(ages,axis=0)        ## population variance"
   ]
  },
  {
   "cell_type": "code",
   "execution_count": 13,
   "id": "93e34f0b",
   "metadata": {},
   "outputs": [],
   "source": [
    "def variance(data):\n",
    "    n=len(ages)\n",
    "    ## mean of the data\n",
    "    mean=sum(data)/n\n",
    "    ## variance\n",
    "    deviation=[(x-mean) ** 2 for x in data]\n",
    "    variance=sum(deviation)/n    \n",
    "    return variances"
   ]
  },
  {
   "cell_type": "code",
   "execution_count": 14,
   "id": "94987e21",
   "metadata": {},
   "outputs": [
    {
     "data": {
      "text/plain": [
       "729.0208333333334"
      ]
     },
     "execution_count": 14,
     "metadata": {},
     "output_type": "execute_result"
    }
   ],
   "source": [
    "variance(ages)"
   ]
  },
  {
   "cell_type": "code",
   "execution_count": 17,
   "id": "b5eda761",
   "metadata": {},
   "outputs": [],
   "source": [
    "def variance(data):  ## yaha hum degree of fredom dof bhi de sakte hai 1 sample ke liye or 0 population ke liye okey \n",
    "    n=len(ages)\n",
    "    ## mean of the data\n",
    "    mean=sum(data)/n\n",
    "    ## variance\n",
    "    deviation=[(x-mean) ** 2 for x in data]\n",
    "    variance=sum(deviation)/(n-1)    \n",
    "    return variance"
   ]
  },
  {
   "cell_type": "code",
   "execution_count": 18,
   "id": "fc644fe0",
   "metadata": {},
   "outputs": [
    {
     "data": {
      "text/plain": [
       "795.2954545454545"
      ]
     },
     "execution_count": 18,
     "metadata": {},
     "output_type": "execute_result"
    }
   ],
   "source": [
    "variance(ages)"
   ]
  },
  {
   "cell_type": "code",
   "execution_count": 23,
   "id": "6ae7a178",
   "metadata": {},
   "outputs": [],
   "source": [
    "def variance(data,dof=1):\n",
    "    n=len(ages)\n",
    "    ## mean of the data\n",
    "    mean=sum(data)/n\n",
    "    ## variance\n",
    "    deviation=[(x-mean) ** 2 for x in data]\n",
    "    variance=sum(deviation)/(n-dof)    \n",
    "    return variance"
   ]
  },
  {
   "cell_type": "code",
   "execution_count": 24,
   "id": "e9077d58",
   "metadata": {},
   "outputs": [
    {
     "data": {
      "text/plain": [
       "795.2954545454545"
      ]
     },
     "execution_count": 24,
     "metadata": {},
     "output_type": "execute_result"
    }
   ],
   "source": [
    "variance(ages,dof=1)"
   ]
  },
  {
   "cell_type": "code",
   "execution_count": 25,
   "id": "ed7fed77",
   "metadata": {},
   "outputs": [
    {
     "data": {
      "text/plain": [
       "729.0208333333334"
      ]
     },
     "execution_count": 25,
     "metadata": {},
     "output_type": "execute_result"
    }
   ],
   "source": [
    "statistics.pvariance(ages)  ## direct population variance le sakte hai isse "
   ]
  },
  {
   "cell_type": "code",
   "execution_count": 26,
   "id": "a208c587",
   "metadata": {},
   "outputs": [
    {
     "data": {
      "text/plain": [
       "27.000385799712813"
      ]
     },
     "execution_count": 26,
     "metadata": {},
     "output_type": "execute_result"
    }
   ],
   "source": [
    "import math\n",
    "math.sqrt(statistics.pvariance(ages))  ## to find standered deviation.."
   ]
  },
  {
   "cell_type": "code",
   "execution_count": 27,
   "id": "a3186741",
   "metadata": {},
   "outputs": [],
   "source": [
    "## histogram and PDF"
   ]
  },
  {
   "cell_type": "code",
   "execution_count": 29,
   "id": "834984a7",
   "metadata": {},
   "outputs": [
    {
     "name": "stderr",
     "output_type": "stream",
     "text": [
      "C:\\Users\\Himanshu Sharma\\anaconda3\\Lib\\site-packages\\seaborn\\_oldcore.py:1119: FutureWarning: use_inf_as_na option is deprecated and will be removed in a future version. Convert inf values to NaN before operating instead.\n",
      "  with pd.option_context('mode.use_inf_as_na', True):\n"
     ]
    },
    {
     "data": {
      "text/plain": [
       "<Axes: ylabel='Count'>"
      ]
     },
     "execution_count": 29,
     "metadata": {},
     "output_type": "execute_result"
    },
    {
     "data": {
      "image/png": "[encoded data removed]",
      "text/plain": [
       "<Figure size 640x480 with 1 Axes>"
      ]
     },
     "metadata": {},
     "output_type": "display_data"
    }
   ],
   "source": [
    "import seaborn as sns\n",
    "sns.histplot(ages,kde=True)  ## kde = kernal dencity estimator which is made smooth curve"
   ]
  },
  {
   "cell_type": "code",
   "execution_count": 30,
   "id": "254271fc",
   "metadata": {},
   "outputs": [],
   "source": [
    "## create normal distribution data \n",
    "s=np.random.normal(0.5,0.2,1000)  ## 0.5 mean liya hu or 0.2 s.d liya hu and 1000 data points liya hu\n"
   ]
  },
  {
   "cell_type": "code",
   "execution_count": 32,
   "id": "d31ea32c",
   "metadata": {},
   "outputs": [
    {
     "data": {
      "text/plain": [
       "array([ 5.60658135e-01,  4.02967135e-01,  6.99230130e-01,  8.36567904e-01,\n",
       "        6.91583954e-01,  7.73673823e-01,  4.85904734e-01,  4.17904419e-01,\n",
       "        4.31125368e-01,  3.30108768e-01,  1.40692336e-01,  6.03128739e-01,\n",
       "        4.96375650e-01,  6.49600270e-01,  3.32240332e-01,  8.18443154e-01,\n",
       "        3.91536686e-01,  5.10490158e-01,  5.45613458e-01,  9.58876935e-01,\n",
       "        5.53776613e-01,  2.62323554e-01,  4.79915110e-01,  3.67283067e-01,\n",
       "        5.06843942e-01,  3.32144254e-01,  4.59171966e-01,  5.44666155e-01,\n",
       "        6.29573858e-01,  1.89445090e-01,  3.82230754e-01,  1.79375926e-01,\n",
       "        4.05671816e-01,  8.67106807e-01,  2.92652570e-01,  5.50942919e-01,\n",
       "        4.23641165e-01,  5.98730027e-01,  4.07921412e-01,  7.61330623e-02,\n",
       "        3.64766717e-01,  7.18359589e-01,  4.21915824e-01,  4.38319758e-01,\n",
       "        3.97936148e-01,  4.56054071e-01,  5.13239446e-01,  1.13343038e-01,\n",
       "        4.36503938e-01,  5.67116335e-01,  4.21803783e-01,  6.11305736e-01,\n",
       "        6.04527482e-01,  5.17915004e-01,  4.63461627e-01,  5.28028840e-01,\n",
       "        4.07410395e-01,  5.67795555e-01,  5.42175507e-01,  6.57631343e-01,\n",
       "        6.52354917e-01,  3.83200609e-01,  7.71435460e-01,  4.42470853e-01,\n",
       "        5.35494478e-01,  8.62409140e-01,  1.85990091e-01,  8.85044945e-01,\n",
       "        3.10258221e-01,  3.97165326e-01,  3.35401594e-01,  5.45741748e-01,\n",
       "        6.17948366e-01,  5.36710565e-01,  6.04579961e-01,  6.54050535e-01,\n",
       "        6.08538424e-01,  5.37234878e-01,  6.39431659e-01,  6.42923967e-01,\n",
       "        6.18116326e-01,  3.92182851e-01,  3.74102156e-01,  6.20442385e-01,\n",
       "        5.87249133e-01,  3.11028168e-01,  4.17655792e-01,  8.22749598e-01,\n",
       "        2.80148889e-01,  1.46597547e-01,  2.28197087e-01,  5.84923915e-01,\n",
       "        2.04410204e-01,  3.96702920e-01,  6.46815845e-01,  4.26590755e-01,\n",
       "        4.17226164e-01,  7.17929342e-01,  4.75174226e-02,  6.99277021e-01,\n",
       "        7.44884704e-01,  6.11797768e-01,  3.76304371e-01,  5.61378793e-01,\n",
       "        5.39161524e-01,  4.88970505e-01,  5.74234320e-01,  3.52049916e-01,\n",
       "        6.41100688e-01,  4.25732682e-01,  5.71722526e-01,  4.23378545e-01,\n",
       "        4.14059226e-01,  5.99569047e-01,  7.03537095e-01,  3.47497972e-01,\n",
       "        6.34796677e-01,  6.88105065e-01,  4.28376458e-01,  6.72906581e-01,\n",
       "        2.70118433e-01,  4.62360689e-01,  5.51686901e-01,  4.58737225e-01,\n",
       "        2.27679734e-01,  8.11698748e-01,  5.14157901e-01,  7.57251056e-01,\n",
       "        1.73834220e-01,  5.02203220e-01,  2.82597586e-01,  5.63406360e-01,\n",
       "        4.30893099e-01,  5.85454757e-01,  6.41304865e-01,  4.57678250e-01,\n",
       "        2.45846640e-01,  4.38850336e-01,  5.13381730e-01,  3.52764081e-01,\n",
       "        4.84576346e-01,  4.13096938e-01,  5.68121401e-01,  4.95217693e-01,\n",
       "        1.65582817e-01,  8.12589034e-01,  2.66663392e-01,  7.10752688e-01,\n",
       "        7.26918141e-01,  1.61453309e-01,  7.27530734e-01,  7.19939058e-01,\n",
       "        2.12849142e-01,  4.41933384e-01,  4.08237483e-01,  4.69101908e-01,\n",
       "        7.00214823e-01,  5.19801030e-01,  7.58541259e-01,  4.11701497e-01,\n",
       "        6.50376618e-01,  4.40543433e-01,  9.78294325e-04,  6.12562125e-01,\n",
       "        2.36475972e-01,  6.08362598e-01,  3.15219935e-01,  3.46900193e-01,\n",
       "        8.84792145e-01,  3.66049418e-01,  2.53875505e-01,  6.27033642e-01,\n",
       "        2.66344504e-01,  6.08553372e-01,  5.47579299e-01,  6.75852485e-01,\n",
       "        5.88159515e-01,  2.71993133e-01,  6.58554108e-01,  4.39325343e-01,\n",
       "        6.58148327e-01,  3.77569270e-01,  2.88475456e-01,  4.24858800e-01,\n",
       "        7.06943550e-01,  3.34356505e-01,  5.83145042e-01,  5.74887254e-01,\n",
       "        6.58037737e-01,  1.16501609e-01,  4.25776884e-01,  5.49526946e-01,\n",
       "        3.72890188e-01,  4.61956464e-01,  5.57377632e-01,  3.68194001e-01,\n",
       "        4.32677011e-01,  4.66190728e-01,  5.57208830e-01,  5.93021023e-01,\n",
       "        4.80544244e-01,  4.93412102e-01,  4.98417609e-01,  3.53956330e-01,\n",
       "        5.49230004e-01,  4.28386077e-01,  2.19900071e-01,  3.75398126e-01,\n",
       "        3.85520603e-01,  5.94857684e-01,  5.51825136e-01,  3.52395982e-01,\n",
       "        2.45659198e-01,  4.89587700e-01,  4.27904712e-01,  3.48504441e-01,\n",
       "        2.82794717e-01,  6.75881171e-01,  7.76955692e-01,  4.96316713e-01,\n",
       "        6.95946045e-01,  9.12158091e-01,  5.48051302e-01,  2.48951793e-01,\n",
       "        3.46592230e-01,  4.15956301e-01,  3.63340728e-01,  3.73467721e-01,\n",
       "        4.29011068e-01,  5.94730945e-01,  6.05182937e-01,  4.87569837e-01,\n",
       "        7.17689422e-01,  5.13606150e-01,  5.25452727e-01,  2.49165641e-01,\n",
       "        4.50440968e-01,  4.33429035e-01, -1.82862961e-03,  3.85505478e-01,\n",
       "        1.15047982e-01,  5.88707264e-01,  7.30396346e-01,  6.97823871e-01,\n",
       "        6.01300506e-01,  5.46515619e-01,  4.32645645e-01,  3.89408883e-01,\n",
       "        2.06820635e-01,  6.56851053e-01,  4.26400091e-01,  1.73835539e-01,\n",
       "        5.48199530e-01,  3.90647939e-01,  3.73591085e-01,  4.93832101e-01,\n",
       "        7.10703428e-01,  1.29376863e-01,  1.40067553e-01,  4.02103209e-01,\n",
       "        4.19990752e-01,  4.78748553e-01,  8.05342398e-01,  4.56707045e-01,\n",
       "        5.62211989e-01,  5.88766563e-01,  5.98632772e-01,  8.05264875e-01,\n",
       "        5.21661092e-01,  4.29259661e-01,  5.88463692e-02,  2.98266433e-01,\n",
       "        3.03653140e-01,  4.46352110e-01,  4.90758432e-01,  7.12786422e-01,\n",
       "        6.38081492e-01,  6.58160293e-01,  2.80971554e-01,  3.13249777e-01,\n",
       "        6.24230072e-01,  6.99902077e-01,  6.77098685e-01,  5.42864923e-01,\n",
       "        5.26917898e-01,  2.47857872e-01,  5.20748443e-01,  3.92139836e-01,\n",
       "        3.35459838e-01,  6.81534198e-01,  1.36275508e-01,  7.60132000e-01,\n",
       "        3.48442904e-01,  7.86925540e-01,  5.22265223e-01,  2.07341210e-01,\n",
       "        6.45439408e-01,  3.05374298e-01,  5.71482246e-01,  3.67923168e-02,\n",
       "        6.08477159e-01,  4.54309190e-01,  3.97682148e-01,  4.27431241e-01,\n",
       "        5.17557324e-01,  4.36076375e-01,  2.19454307e-01,  6.93426722e-01,\n",
       "        4.36977937e-01,  5.34789799e-01,  2.08767748e-01,  4.92131306e-01,\n",
       "        7.98552434e-02,  6.50311212e-01,  4.97626267e-01,  5.24814321e-01,\n",
       "        7.73354546e-01,  6.62566722e-01,  4.01401619e-01,  6.46876001e-01,\n",
       "        3.82737981e-01,  2.16005067e-01,  6.51938898e-01,  4.96789761e-01,\n",
       "        6.07102666e-01,  4.41513908e-01,  5.07226385e-01,  5.60619678e-01,\n",
       "        6.14495326e-01,  1.01057056e+00,  3.27645417e-01,  7.77269290e-01,\n",
       "        2.60223325e-01,  5.26699033e-01,  2.31132330e-01,  3.70603140e-01,\n",
       "        3.49386475e-01,  9.47171149e-01,  7.16744113e-01,  3.59945388e-01,\n",
       "        4.89598275e-01,  7.70670391e-01,  4.69879818e-01,  2.97131540e-01,\n",
       "        4.14340081e-01,  6.77098332e-01,  3.52836246e-01,  5.51934356e-01,\n",
       "        5.47239386e-01,  3.80117569e-01,  6.04728178e-01,  5.68744114e-01,\n",
       "        5.14382598e-01,  4.36985421e-01,  4.79396031e-01,  5.30887576e-01,\n",
       "        5.60305046e-01,  5.95152357e-01,  4.84467807e-01,  4.88614684e-01,\n",
       "        5.68755394e-01,  8.56543469e-01,  7.27389898e-01,  5.80653890e-01,\n",
       "        7.81190046e-01,  3.78629021e-01,  1.24025507e+00,  5.58807504e-01,\n",
       "        2.97581644e-01,  3.70555897e-01,  2.13486796e-01,  5.98403831e-01,\n",
       "        2.57229788e-01,  1.43880999e-01,  5.82903963e-01,  5.63194487e-01,\n",
       "        4.64988627e-01,  7.37441261e-01,  7.57929469e-01,  6.41866695e-01,\n",
       "        4.01801760e-01,  3.10371637e-01,  4.78956595e-01,  8.91500671e-01,\n",
       "        4.77363604e-01,  2.42255093e-01,  4.56261764e-01,  4.74246132e-01,\n",
       "        6.15052740e-01,  5.64678762e-01,  7.07371837e-01,  5.98603499e-01,\n",
       "        5.67529097e-01,  3.27575007e-01,  5.97589324e-01,  8.40764591e-01,\n",
       "        5.71643299e-01,  3.47429287e-01,  9.13199764e-01,  4.51908657e-01,\n",
       "        4.78145796e-01,  2.18345962e-01,  3.53793378e-01,  5.55665531e-01,\n",
       "        3.35129939e-01,  4.68124400e-01,  3.09951361e-01,  6.76891043e-01,\n",
       "        5.42491451e-01,  1.49332714e-02,  6.25923760e-01,  6.18636803e-01,\n",
       "        4.81066366e-01,  6.09297633e-01,  5.52103425e-01,  2.04207825e-02,\n",
       "        6.71066738e-01,  2.71330390e-01,  5.08778790e-01,  7.56104440e-01,\n",
       "        4.69273465e-01,  4.04588186e-01,  5.10956884e-01,  7.42876430e-01,\n",
       "        6.99805058e-01,  2.87058965e-01,  6.91652825e-01,  3.01132713e-01,\n",
       "        4.31729927e-01,  5.83713310e-01,  4.39564161e-01,  6.31301049e-01,\n",
       "        8.08109892e-01,  6.69824562e-01,  9.85627168e-01,  6.27156772e-01,\n",
       "        9.45994806e-01,  1.31322359e-01,  4.96553745e-01,  4.14450596e-01,\n",
       "        5.73299360e-01,  4.74496120e-01,  1.89145124e-01, -9.18278710e-02,\n",
       "        6.01720926e-01,  5.44516646e-01,  2.43503608e-01,  3.54920339e-01,\n",
       "        6.95647718e-01,  5.68861569e-01,  2.32093555e-01,  1.23258576e-01,\n",
       "        3.07566165e-01,  1.66076820e-01,  5.19983729e-01,  4.09703745e-01,\n",
       "        5.28494793e-01,  3.88095520e-01,  4.60609586e-01,  3.76316429e-01,\n",
       "        5.81716438e-01,  5.00489819e-01,  2.32260301e-01,  7.35460357e-01,\n",
       "        4.73400698e-01,  6.80420681e-01,  5.45048719e-01,  6.00899451e-01,\n",
       "        8.14998725e-01,  5.56074124e-01,  3.64251841e-01,  1.19935718e-01,\n",
       "        3.83112935e-01,  1.76801864e-01,  5.50309763e-01,  2.50684774e-01,\n",
       "        6.27615053e-01,  5.05038547e-01,  2.77915740e-01,  5.51873591e-01,\n",
       "        6.67350965e-01,  7.57427664e-01,  4.30853155e-01,  7.36155450e-01,\n",
       "        6.08257357e-01,  5.65227008e-01,  2.65646248e-01,  5.98238763e-01,\n",
       "        4.24659978e-01,  4.40229705e-01,  5.76215553e-01,  7.92980013e-01,\n",
       "        8.31525395e-01,  7.56621996e-01,  5.02177324e-01,  3.46249433e-01,\n",
       "        4.96590547e-01,  6.72571350e-01,  4.58428170e-01,  3.23296013e-01,\n",
       "        6.02798307e-01,  4.41040147e-01,  4.62845591e-01,  6.48539952e-01,\n",
       "        6.78181696e-01, -1.31124668e-02,  5.64529653e-01,  7.46230924e-01,\n",
       "        2.73903819e-01,  7.62911456e-01,  4.85984410e-01,  3.17916488e-01,\n",
       "        9.43931284e-02,  5.61922142e-02,  2.63212380e-01,  5.28914327e-01,\n",
       "        4.18956716e-01,  2.87997287e-01,  9.42377126e-02,  4.29275402e-01,\n",
       "        6.37181857e-01,  5.00378065e-01,  7.74600888e-01,  4.67220817e-01,\n",
       "        6.60002529e-01,  5.02071076e-01,  4.36305896e-01,  6.62775629e-01,\n",
       "        4.42434115e-01,  7.72068780e-01,  2.29271029e-01,  4.54881800e-01,\n",
       "        5.74915334e-01,  4.29147027e-01,  6.66635536e-01,  2.61622368e-01,\n",
       "        7.21800779e-01,  5.02802640e-01,  6.06678506e-01,  7.45195149e-01,\n",
       "        5.78447734e-01,  3.39155071e-01,  4.50395748e-01,  2.03543363e-01,\n",
       "        1.80716961e-01,  3.98282345e-01,  1.43700028e-01,  4.87390109e-01,\n",
       "        4.31339853e-01,  6.87240595e-01,  4.04488578e-01,  3.14830929e-01,\n",
       "        1.84387064e-01,  2.65007255e-01,  3.41040792e-01,  5.54846459e-01,\n",
       "        6.77372708e-01,  1.44302471e-01,  8.64768289e-01,  4.46351121e-01,\n",
       "        3.29589550e-01,  3.92851716e-01,  5.54272156e-01,  5.35045434e-01,\n",
       "        2.72214018e-01,  2.23977278e-01,  4.37723386e-01,  7.06593989e-01,\n",
       "        4.77527516e-01,  5.64015727e-01,  3.81630497e-01,  6.45452607e-01,\n",
       "        5.74053416e-01,  3.38467560e-01,  6.78287141e-01,  2.94608025e-01,\n",
       "        5.72616386e-01,  3.34084653e-01,  5.26926397e-01,  5.34167374e-01,\n",
       "        6.79283697e-01,  6.87772930e-01,  2.90409001e-01,  5.73474518e-01,\n",
       "        6.82054481e-01,  1.84577158e-01,  7.77650945e-01,  6.17959386e-02,\n",
       "        4.26255610e-01,  5.10314882e-01,  7.39728583e-01,  9.05256231e-01,\n",
       "        2.45593128e-01,  8.17298709e-01,  7.39406358e-01,  5.18384238e-01,\n",
       "        6.60280927e-01,  6.87229757e-01,  4.41576403e-01,  6.18096336e-01,\n",
       "        3.44193436e-01,  6.84234484e-01,  4.58838419e-01,  4.95131498e-01,\n",
       "        4.16265670e-01,  3.21448610e-01,  6.47833632e-01,  6.84410715e-01,\n",
       "        7.25295134e-01,  6.19635783e-01,  6.42198587e-01,  4.88822868e-01,\n",
       "        5.84531466e-01,  4.15751572e-01,  2.46262046e-01,  4.20613934e-01,\n",
       "        1.34270548e-01,  7.14695637e-01,  6.67813645e-01,  6.60222175e-01,\n",
       "        3.63415481e-01,  4.22429639e-01,  5.29841804e-01,  5.41117505e-01,\n",
       "        6.41120912e-01,  3.22841887e-01,  7.24206699e-01,  5.82219354e-01,\n",
       "        6.18273199e-01,  5.39443597e-01,  2.89391714e-01,  4.86624843e-01,\n",
       "        5.97393906e-01,  5.49502945e-01,  4.69077728e-01,  5.09929290e-01,\n",
       "        7.03844307e-01,  2.83503659e-01,  3.23581856e-01,  6.39836849e-01,\n",
       "        4.07090629e-01,  2.88181568e-01,  6.65875479e-01,  6.47449831e-01,\n",
       "        4.32304364e-01,  1.27398106e-01,  3.65861188e-01,  3.00712198e-01,\n",
       "        4.19603900e-01,  6.29538657e-01,  3.05762852e-01,  2.84765780e-01,\n",
       "        6.37877306e-01,  3.67350700e-01,  2.15627468e-01,  5.59452617e-01,\n",
       "        4.18094568e-01,  2.91382181e-01,  3.29838699e-01,  7.22879482e-01,\n",
       "        4.24359874e-01,  8.68793666e-02,  6.18475354e-01,  6.99128966e-01,\n",
       "        5.59106864e-01,  6.50006930e-01,  2.05629080e-01,  3.67290671e-01,\n",
       "        9.38920937e-01,  1.71012765e-01,  6.91359807e-01,  4.26751775e-01,\n",
       "        3.26761269e-01, -1.21386309e-01,  2.77789406e-01,  4.22695745e-01,\n",
       "        1.42534255e-01,  2.80185829e-01,  2.39220939e-01,  7.15137021e-01,\n",
       "        1.39506788e-01,  2.46731737e-01,  7.35069063e-01,  6.08048681e-01,\n",
       "        4.24899223e-01,  5.34313921e-01,  4.44517658e-01,  1.66123702e-01,\n",
       "        6.01795946e-01,  5.53433180e-01,  4.70097496e-01,  6.62666070e-01,\n",
       "        4.55200236e-01,  4.55954868e-01,  9.25162722e-01,  2.55642399e-01,\n",
       "        4.30443091e-01,  5.20058899e-01,  2.48869873e-01,  5.05366594e-01,\n",
       "        7.52845978e-01,  2.89603491e-01,  1.59647794e-01,  6.15888083e-01,\n",
       "        3.75991696e-01,  6.64115176e-01,  3.06990421e-02,  4.79780374e-01,\n",
       "        7.40461019e-01,  6.01943231e-01,  6.86735970e-01,  3.31688852e-01,\n",
       "        9.18368101e-01,  3.60355635e-01,  1.10058791e-01, -1.75915887e-02,\n",
       "        3.04239527e-01,  5.30598542e-01,  7.99314054e-01,  5.72872802e-01,\n",
       "        4.74673169e-02,  7.76026695e-01,  5.29682466e-01,  9.69110182e-02,\n",
       "        6.52687774e-01,  7.50393431e-01,  2.49461273e-01,  7.46893978e-01,\n",
       "        4.52988817e-01,  4.99244047e-01,  4.62910989e-01,  7.61789263e-01,\n",
       "        5.85410531e-01,  7.69269189e-01,  3.01343832e-01,  4.77244081e-01,\n",
       "        7.75152102e-01,  2.12620529e-01,  4.07901573e-01,  5.71349856e-01,\n",
       "        3.79255354e-01,  6.99977284e-01,  5.42147890e-01,  4.08721447e-01,\n",
       "        7.02101045e-01,  6.54740854e-01,  4.46590087e-01,  3.46146284e-01,\n",
       "        3.88991518e-01,  7.99424376e-01,  3.87216611e-01,  8.70025731e-01,\n",
       "        5.94944195e-01,  7.65386456e-01,  4.57844643e-01,  5.61068376e-01,\n",
       "        6.48541047e-01,  4.72349304e-01,  7.10620570e-01,  2.90031295e-01,\n",
       "        2.83654739e-01, -1.59795250e-01,  5.16399953e-01,  6.01772634e-01,\n",
       "        2.93258918e-01,  7.07737533e-01,  4.59765275e-01,  5.56959162e-01,\n",
       "        8.80391813e-01,  3.28953132e-01,  5.68297496e-01,  5.94797238e-01,\n",
       "        3.87226144e-01,  5.76677150e-01,  4.73875036e-01,  5.01109420e-01,\n",
       "        3.16845805e-01,  5.45143230e-01,  6.50550923e-01,  3.99914910e-01,\n",
       "        3.22558610e-01,  4.56407336e-01,  1.16700593e-01,  4.75698532e-01,\n",
       "        1.92398605e-01,  3.48027592e-01,  7.88492286e-01,  6.35553849e-01,\n",
       "        3.62540778e-01,  5.76161254e-01,  3.18208718e-01,  4.61021684e-01,\n",
       "        2.90696359e-01,  3.58655864e-01,  2.77685692e-01,  6.48343399e-01,\n",
       "        7.09980344e-01,  6.95143863e-01, -8.56513555e-02,  5.12948597e-01,\n",
       "        5.08077713e-01,  6.34791234e-01,  3.74810376e-01,  7.63227358e-01,\n",
       "        7.46626647e-01,  3.30543251e-01,  5.19922287e-01,  3.42987728e-01,\n",
       "        5.19203261e-01,  5.90860779e-01,  2.35527660e-01,  7.58450981e-01,\n",
       "        3.29056021e-01,  2.05331268e-01,  4.53831736e-01,  3.80173907e-01,\n",
       "        3.65933767e-01,  5.28453026e-01,  4.95319395e-01,  4.95103235e-01,\n",
       "        4.59168587e-01,  1.91070918e-01,  5.37544271e-01,  3.79925740e-01,\n",
       "        4.76881081e-01,  7.54371367e-01,  5.26947160e-01,  6.90680661e-01,\n",
       "        5.74886224e-01,  1.58813551e-01,  3.74066745e-01,  4.27333005e-01,\n",
       "        1.31220486e-01,  3.83202169e-01,  6.24332758e-01, -1.60767124e-02,\n",
       "        4.95898429e-01,  4.99874206e-01,  7.17332784e-01,  7.98020461e-02,\n",
       "        1.96916511e-01,  4.14821931e-01,  2.45300128e-01,  8.58504597e-01,\n",
       "        1.66388939e-01,  6.91295486e-01,  8.30656675e-01,  3.87687822e-01,\n",
       "        4.54245461e-01,  5.80933330e-01,  3.63812009e-01,  4.01850607e-01,\n",
       "        4.22746149e-01,  6.88808631e-01,  5.75193467e-01,  7.68151588e-01,\n",
       "        7.13849024e-01,  4.52008453e-01,  5.03987041e-01,  7.52036720e-01,\n",
       "        6.24719593e-01,  5.85300612e-01,  4.34853707e-01, -8.91824582e-02,\n",
       "        6.51148150e-01,  3.91290611e-01,  5.03645093e-01,  5.60987582e-01,\n",
       "        4.95548341e-01,  3.91515944e-01,  3.96076717e-01,  8.89217463e-01,\n",
       "        4.18471552e-01,  4.69227753e-01,  6.89419730e-02,  5.57639266e-01,\n",
       "        5.63006012e-01,  7.49103924e-01,  7.95370114e-01,  3.75840146e-02,\n",
       "        4.70487344e-01,  5.59085060e-01,  9.41172249e-01,  3.61719560e-01,\n",
       "        4.48728375e-01,  5.73199910e-01,  5.45702604e-01,  4.15986686e-01,\n",
       "        5.61728372e-01,  4.66563893e-01,  4.13890553e-01,  7.97716243e-01,\n",
       "        3.68090242e-01,  5.76760709e-01,  2.76094835e-01,  3.72850901e-01,\n",
       "        3.41929314e-01,  6.40145457e-01,  2.72526116e-01,  2.93871617e-01,\n",
       "        7.73667890e-01,  7.78368091e-01,  4.18434186e-01,  6.78277621e-01,\n",
       "        5.20751126e-01,  7.32037641e-01,  6.22714255e-01,  7.43792057e-01,\n",
       "        4.18541939e-01,  4.91063256e-01,  5.44828703e-01,  4.36957544e-01,\n",
       "        5.27383822e-01,  5.57243653e-01,  6.62256693e-01,  4.43376914e-01,\n",
       "        8.07398654e-01,  4.19572857e-01,  3.89039363e-01,  5.27008612e-01,\n",
       "        6.47909675e-01,  7.02424947e-02,  1.38254685e-01,  7.34933403e-01,\n",
       "        5.20228501e-01,  3.92562818e-01,  5.02148969e-01,  6.85991814e-01,\n",
       "        5.24443875e-01,  5.88351332e-01,  3.22122334e-01,  2.57060742e-01,\n",
       "        8.39742826e-01,  3.92906891e-01,  4.56105156e-01,  7.73030667e-01,\n",
       "        4.13802322e-01,  8.11258646e-01,  6.01343478e-01,  7.68271313e-01,\n",
       "        6.48610382e-01,  8.24725418e-01,  3.26432374e-01,  5.74709445e-01,\n",
       "        6.25690249e-01,  4.30028394e-01,  4.94186133e-01,  6.78958542e-01,\n",
       "        4.04899632e-01,  4.66215452e-01,  5.42537040e-01,  4.90194147e-01,\n",
       "        5.62627145e-01,  8.52307246e-01,  5.48246134e-01,  1.82879500e-01,\n",
       "        5.72997936e-01,  3.29604063e-01,  5.40883015e-01,  7.73248193e-01,\n",
       "        2.28546045e-01,  5.34638756e-01,  3.55932160e-01,  4.94847696e-01,\n",
       "        7.21391679e-01,  2.48656511e-01,  7.81542590e-01,  5.44202115e-01,\n",
       "        3.60301154e-01,  4.13902068e-01,  3.69632194e-01,  2.60132698e-01,\n",
       "        8.07582176e-01,  1.46206134e-01,  3.87374961e-01,  4.04917525e-01,\n",
       "        2.40450115e-01,  4.82643676e-01,  6.11286866e-01,  5.99438926e-01,\n",
       "        6.02098832e-01,  5.22918972e-01,  7.73452135e-01,  7.54175004e-01,\n",
       "        4.76801728e-01,  8.02725509e-01,  3.05727195e-01,  5.14258490e-01,\n",
       "        3.16456349e-01,  5.48038800e-01,  7.12115201e-01,  4.28901868e-01,\n",
       "        5.73195353e-01,  3.21764463e-01,  7.00861225e-01,  3.61261747e-01,\n",
       "        2.89459601e-01,  8.58744141e-01,  5.14670116e-01,  7.69954807e-01])"
      ]
     },
     "execution_count": 32,
     "metadata": {},
     "output_type": "execute_result"
    }
   ],
   "source": [
    "s  ## yaha s ki value 0.5 and 0.2 ke bich me hai orr 1000 data points hai"
   ]
  },
  {
   "cell_type": "code",
   "execution_count": 33,
   "id": "def8e18f",
   "metadata": {},
   "outputs": [
    {
     "name": "stderr",
     "output_type": "stream",
     "text": [
      "C:\\Users\\Himanshu Sharma\\anaconda3\\Lib\\site-packages\\seaborn\\_oldcore.py:1119: FutureWarning: use_inf_as_na option is deprecated and will be removed in a future version. Convert inf values to NaN before operating instead.\n",
      "  with pd.option_context('mode.use_inf_as_na', True):\n"
     ]
    },
    {
     "data": {
      "text/plain": [
       "<Axes: ylabel='Count'>"
      ]
     },
     "execution_count": 33,
     "metadata": {},
     "output_type": "execute_result"
    },
    {
     "data": {
      "image/png": "[encoded data removed]",
      "text/plain": [
       "<Figure size 640x480 with 1 Axes>"
      ]
     },
     "metadata": {},
     "output_type": "display_data"
    }
   ],
   "source": [
    "sns.histplot(s,kde=True)"
   ]
  },
  {
   "cell_type": "code",
   "execution_count": 34,
   "id": "ed1e741c",
   "metadata": {},
   "outputs": [],
   "source": [
    "## other distribution \n",
    "## 1 log normal dist. 2  power law dist."
   ]
  },
  {
   "cell_type": "code",
   "execution_count": 37,
   "id": "c8a53ba2",
   "metadata": {},
   "outputs": [],
   "source": [
    "mu,sigma = 3., 1.  ## mean and standered deviation\n",
    "s = np.random.lognormal(mu,sigma,100)"
   ]
  },
  {
   "cell_type": "code",
   "execution_count": 38,
   "id": "286f8e59",
   "metadata": {},
   "outputs": [
    {
     "name": "stderr",
     "output_type": "stream",
     "text": [
      "C:\\Users\\Himanshu Sharma\\anaconda3\\Lib\\site-packages\\seaborn\\_oldcore.py:1119: FutureWarning: use_inf_as_na option is deprecated and will be removed in a future version. Convert inf values to NaN before operating instead.\n",
      "  with pd.option_context('mode.use_inf_as_na', True):\n"
     ]
    },
    {
     "data": {
      "text/plain": [
       "<Axes: ylabel='Count'>"
      ]
     },
     "execution_count": 38,
     "metadata": {},
     "output_type": "execute_result"
    },
    {
     "data": {
      "image/png": "[encoded data removed]",
      "text/plain": [
       "<Figure size 640x480 with 1 Axes>"
      ]
     },
     "metadata": {},
     "output_type": "display_data"
    }
   ],
   "source": [
    "sns.histplot(s,kde=True)"
   ]
  },
  {
   "cell_type": "code",
   "execution_count": 39,
   "id": "af527d45",
   "metadata": {},
   "outputs": [
    {
     "name": "stderr",
     "output_type": "stream",
     "text": [
      "C:\\Users\\Himanshu Sharma\\anaconda3\\Lib\\site-packages\\seaborn\\_oldcore.py:1119: FutureWarning: use_inf_as_na option is deprecated and will be removed in a future version. Convert inf values to NaN before operating instead.\n",
      "  with pd.option_context('mode.use_inf_as_na', True):\n"
     ]
    },
    {
     "data": {
      "text/plain": [
       "<Axes: ylabel='Count'>"
      ]
     },
     "execution_count": 39,
     "metadata": {},
     "output_type": "execute_result"
    },
    {
     "data": {
      "image/png": "[encoded data removed]",
      "text/plain": [
       "<Figure size 640x480 with 1 Axes>"
      ]
     },
     "metadata": {},
     "output_type": "display_data"
    }
   ],
   "source": [
    "sns.histplot(np.log(s))  ## log apply kar diya jisse hume normal diatribution mila hai "
   ]
  },
  {
   "cell_type": "code",
   "execution_count": 41,
   "id": "ee346d34",
   "metadata": {},
   "outputs": [
    {
     "name": "stderr",
     "output_type": "stream",
     "text": [
      "C:\\Users\\Himanshu Sharma\\anaconda3\\Lib\\site-packages\\seaborn\\_oldcore.py:1119: FutureWarning: use_inf_as_na option is deprecated and will be removed in a future version. Convert inf values to NaN before operating instead.\n",
      "  with pd.option_context('mode.use_inf_as_na', True):\n"
     ]
    },
    {
     "data": {
      "text/plain": [
       "<Axes: ylabel='Count'>"
      ]
     },
     "execution_count": 41,
     "metadata": {},
     "output_type": "execute_result"
    },
    {
     "data": {
      "image/png": "[encoded data removed]",
      "text/plain": [
       "<Figure size 640x480 with 1 Axes>"
      ]
     },
     "metadata": {},
     "output_type": "display_data"
    }
   ],
   "source": [
    "sns.histplot(np.log(s),kde=True)"
   ]
  },
  {
   "cell_type": "code",
   "execution_count": null,
   "id": "77d339d2",
   "metadata": {},
   "outputs": [],
   "source": []
  }
 ],
 "metadata": {
  "kernelspec": {
   "display_name": "Python 3 (ipykernel)",
   "language": "python",
   "name": "python3"
  },
  "language_info": {
   "codemirror_mode": {
    "name": "ipython",
    "version": 3
   },
   "file_extension": ".py",
   "mimetype": "text/x-python",
   "name": "python",
   "nbconvert_exporter": "python",
   "pygments_lexer": "ipython3",
   "version": "3.11.5"
  }
 },
 "nbformat": 4,
 "nbformat_minor": 5
}
