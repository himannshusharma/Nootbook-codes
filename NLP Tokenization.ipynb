{
 "cells": [
  {
   "cell_type": "code",
   "execution_count": 1,
   "id": "4932359f-2ee6-429a-911b-8b08cdb061b9",
   "metadata": {},
   "outputs": [
    {
     "name": "stdout",
     "output_type": "stream",
     "text": [
      "Requirement already satisfied: nltk in c:\\users\\himanshu sharma\\anaconda3\\lib\\site-packages (3.8.1)\n",
      "Requirement already satisfied: click in c:\\users\\himanshu sharma\\anaconda3\\lib\\site-packages (from nltk) (8.1.7)\n",
      "Requirement already satisfied: joblib in c:\\users\\himanshu sharma\\anaconda3\\lib\\site-packages (from nltk) (1.1.1)\n",
      "Requirement already satisfied: regex>=2021.8.3 in c:\\users\\himanshu sharma\\anaconda3\\lib\\site-packages (from nltk) (2023.10.3)\n",
      "Requirement already satisfied: tqdm in c:\\users\\himanshu sharma\\anaconda3\\lib\\site-packages (from nltk) (4.65.0)\n",
      "Requirement already satisfied: colorama in c:\\users\\himanshu sharma\\anaconda3\\lib\\site-packages (from click->nltk) (0.4.6)\n"
     ]
    }
   ],
   "source": [
    "!pip install nltk\n"
   ]
  },
  {
   "cell_type": "code",
   "execution_count": 35,
   "id": "fb14d0f1-c1a4-4b18-ae89-8feb5b3f082c",
   "metadata": {},
   "outputs": [],
   "source": [
    "corpus = \"\"\"Heya i am himasnhu, data science student and i learn NLP.\n",
    "Please do watch the entire course! to become expert in NLP.\n",
    "\"\"\""
   ]
  },
  {
   "cell_type": "code",
   "execution_count": 36,
   "id": "e4b083f1-3ee5-4563-8b49-6ba93faaeb4c",
   "metadata": {},
   "outputs": [
    {
     "name": "stdout",
     "output_type": "stream",
     "text": [
      "Heya i am himasnhu, data science student and i learn NLP.\n",
      "Please do watch the entire course! to become expert in NLP.\n",
      "\n"
     ]
    }
   ],
   "source": [
    "print(corpus)"
   ]
  },
  {
   "cell_type": "code",
   "execution_count": 37,
   "id": "2638f885-5675-40a9-a836-5095d7ed83ed",
   "metadata": {},
   "outputs": [],
   "source": [
    "## Tokenization \n",
    "## paragrapgh -->  sentences\n",
    "\n",
    "from nltk.tokenize import sent_tokenize"
   ]
  },
  {
   "cell_type": "code",
   "execution_count": 38,
   "id": "d0dd5f97-be59-487b-b38e-931a25b37753",
   "metadata": {},
   "outputs": [],
   "source": [
    "import nltk"
   ]
  },
  {
   "cell_type": "code",
   "execution_count": 39,
   "id": "606152b6-076f-468f-9526-6f3cf4db7636",
   "metadata": {},
   "outputs": [
    {
     "name": "stderr",
     "output_type": "stream",
     "text": [
      "[nltk_data] Downloading package punkt to C:\\Users\\Himanshu\n",
      "[nltk_data]     Sharma\\AppData\\Roaming\\nltk_data...\n",
      "[nltk_data]   Package punkt is already up-to-date!\n"
     ]
    },
    {
     "data": {
      "text/plain": [
       "True"
      ]
     },
     "execution_count": 39,
     "metadata": {},
     "output_type": "execute_result"
    }
   ],
   "source": [
    "nltk.download('punkt')"
   ]
  },
  {
   "cell_type": "code",
   "execution_count": 40,
   "id": "b6ee0523-de32-4467-b3af-f48744cf2255",
   "metadata": {},
   "outputs": [],
   "source": [
    "documents = sent_tokenize(corpus)"
   ]
  },
  {
   "cell_type": "code",
   "execution_count": 41,
   "id": "964d4304-daae-417b-b4be-d625997705b2",
   "metadata": {},
   "outputs": [
    {
     "data": {
      "text/plain": [
       "['Heya i am himasnhu, data science student and i learn NLP.',\n",
       " 'Please do watch the entire course!',\n",
       " 'to become expert in NLP.']"
      ]
     },
     "execution_count": 41,
     "metadata": {},
     "output_type": "execute_result"
    }
   ],
   "source": [
    "documents"
   ]
  },
  {
   "cell_type": "code",
   "execution_count": 26,
   "id": "e79bb678-61a0-40d8-a9b8-306fb1f7e0de",
   "metadata": {},
   "outputs": [
    {
     "data": {
      "text/plain": [
       "list"
      ]
     },
     "execution_count": 26,
     "metadata": {},
     "output_type": "execute_result"
    }
   ],
   "source": [
    "type(documents)"
   ]
  },
  {
   "cell_type": "code",
   "execution_count": 42,
   "id": "a2bcdaa5-dadd-4283-b394-effe51d67dd4",
   "metadata": {},
   "outputs": [
    {
     "name": "stdout",
     "output_type": "stream",
     "text": [
      "Heya i am himasnhu, data science student and i learn NLP.\n",
      "Please do watch the entire course!\n",
      "to become expert in NLP.\n"
     ]
    }
   ],
   "source": [
    "for sentence in documents:\n",
    "    print(sentence)"
   ]
  },
  {
   "cell_type": "code",
   "execution_count": 43,
   "id": "e08f5fa0-860e-4028-bd56-0ffabed49ab7",
   "metadata": {},
   "outputs": [],
   "source": [
    "## Tokenization \n",
    "## paragraph --> words\n",
    "## sentence --> words\n",
    "\n",
    "from nltk.tokenize import word_tokenize"
   ]
  },
  {
   "cell_type": "code",
   "execution_count": 44,
   "id": "3fb24a86-552b-4a71-96f9-a9d45ec43f61",
   "metadata": {},
   "outputs": [
    {
     "data": {
      "text/plain": [
       "['Heya',\n",
       " 'i',\n",
       " 'am',\n",
       " 'himasnhu',\n",
       " ',',\n",
       " 'data',\n",
       " 'science',\n",
       " 'student',\n",
       " 'and',\n",
       " 'i',\n",
       " 'learn',\n",
       " 'NLP',\n",
       " '.',\n",
       " 'Please',\n",
       " 'do',\n",
       " 'watch',\n",
       " 'the',\n",
       " 'entire',\n",
       " 'course',\n",
       " '!',\n",
       " 'to',\n",
       " 'become',\n",
       " 'expert',\n",
       " 'in',\n",
       " 'NLP',\n",
       " '.']"
      ]
     },
     "execution_count": 44,
     "metadata": {},
     "output_type": "execute_result"
    }
   ],
   "source": [
    "word_tokenize(corpus)"
   ]
  },
  {
   "cell_type": "code",
   "execution_count": 46,
   "id": "6ccf3511-fd67-462b-9bf8-262426a14be4",
   "metadata": {},
   "outputs": [
    {
     "name": "stdout",
     "output_type": "stream",
     "text": [
      "['Heya', 'i', 'am', 'himasnhu', ',', 'data', 'science', 'student', 'and', 'i', 'learn', 'NLP', '.']\n",
      "['Please', 'do', 'watch', 'the', 'entire', 'course', '!']\n",
      "['to', 'become', 'expert', 'in', 'NLP', '.']\n"
     ]
    }
   ],
   "source": [
    "for sentence in documents:\n",
    "    print(word_tokenize(sentence))"
   ]
  },
  {
   "cell_type": "code",
   "execution_count": null,
   "id": "abeb1bcf-7d40-429f-8e56-2ee453ab4b67",
   "metadata": {},
   "outputs": [],
   "source": []
  },
  {
   "cell_type": "code",
   "execution_count": 2,
   "id": "8ed9db92-1ae3-48dc-8971-d6be65aab32b",
   "metadata": {},
   "outputs": [],
   "source": [
    " import nltk "
   ]
  },
  {
   "cell_type": "code",
   "execution_count": 3,
   "id": "cf2eee89-43d9-4681-9305-aa12c00755cf",
   "metadata": {},
   "outputs": [
    {
     "name": "stdout",
     "output_type": "stream",
     "text": [
      "Requirement already satisfied: nltk in c:\\users\\himanshu sharma\\anaconda3\\lib\\site-packages (3.8.1)\n",
      "Requirement already satisfied: click in c:\\users\\himanshu sharma\\anaconda3\\lib\\site-packages (from nltk) (8.1.7)\n",
      "Requirement already satisfied: joblib in c:\\users\\himanshu sharma\\anaconda3\\lib\\site-packages (from nltk) (1.1.1)\n",
      "Requirement already satisfied: regex>=2021.8.3 in c:\\users\\himanshu sharma\\anaconda3\\lib\\site-packages (from nltk) (2023.10.3)\n",
      "Requirement already satisfied: tqdm in c:\\users\\himanshu sharma\\anaconda3\\lib\\site-packages (from nltk) (4.65.0)\n",
      "Requirement already satisfied: colorama in c:\\users\\himanshu sharma\\anaconda3\\lib\\site-packages (from click->nltk) (0.4.6)\n"
     ]
    }
   ],
   "source": [
    "!pip install nltk"
   ]
  },
  {
   "cell_type": "code",
   "execution_count": 4,
   "id": "1c5951f5-b734-4ab8-92ec-3b801a7056df",
   "metadata": {},
   "outputs": [
    {
     "name": "stderr",
     "output_type": "stream",
     "text": [
      "[nltk_data] Downloading package wordnet to C:\\Users\\Himanshu\n",
      "[nltk_data]     Sharma\\AppData\\Roaming\\nltk_data...\n"
     ]
    },
    {
     "data": {
      "text/plain": [
       "True"
      ]
     },
     "execution_count": 4,
     "metadata": {},
     "output_type": "execute_result"
    }
   ],
   "source": [
    "nltk.download('wordnet')"
   ]
  },
  {
   "cell_type": "code",
   "execution_count": 5,
   "id": "7252f53f-3a84-42ba-ba4a-992bfd430b92",
   "metadata": {},
   "outputs": [],
   "source": [
    "### WordNet Lemmatizer\n",
    "\n",
    "from nltk.stem import WordNetLemmatizer"
   ]
  },
  {
   "cell_type": "code",
   "execution_count": 6,
   "id": "81606630-6cd2-46e2-b268-68015e308480",
   "metadata": {},
   "outputs": [],
   "source": [
    "lemmatizer= WordNetLemmatizer()"
   ]
  },
  {
   "cell_type": "code",
   "execution_count": 9,
   "id": "c88abdfe-9d72-4e91-afb5-a83027565586",
   "metadata": {},
   "outputs": [
    {
     "data": {
      "text/plain": [
       "'go'"
      ]
     },
     "execution_count": 9,
     "metadata": {},
     "output_type": "execute_result"
    }
   ],
   "source": [
    "'''\n",
    "POS-Noun ->  n\n",
    "verb ----  > v\n",
    "adjective -> a\n",
    "adverb -   > r\n",
    "'''\n",
    "\n",
    "lemmatizer.lemmatize(\"going\",pos='v')"
   ]
  },
  {
   "cell_type": "code",
   "execution_count": 13,
   "id": "03801add-493b-4012-8cc1-2fb685b2f4da",
   "metadata": {},
   "outputs": [],
   "source": [
    "words = [\"eating\",\"eats\",\"eaten\",\"programming\",\"programs\",\"written\",\"writes\",\"history\",\"finally\"]"
   ]
  },
  {
   "cell_type": "code",
   "execution_count": 14,
   "id": "636fdc29-e993-421a-b843-194b75f4b2a1",
   "metadata": {
    "scrolled": true
   },
   "outputs": [
    {
     "name": "stdout",
     "output_type": "stream",
     "text": [
      "eating----->eat\n",
      "eats----->eat\n",
      "eaten----->eat\n",
      "programming----->program\n",
      "programs----->program\n",
      "written----->write\n",
      "writes----->write\n",
      "history----->history\n",
      "finally----->finally\n"
     ]
    }
   ],
   "source": [
    "for word in words:\n",
    "    print(word+ \"----->\"+lemmatizer.lemmatize(word , pos='v')) ## pos= parts of speech"
   ]
  },
  {
   "cell_type": "code",
   "execution_count": 16,
   "id": "3a7d1c27-0ad1-410c-b83a-4d38a49f4202",
   "metadata": {},
   "outputs": [
    {
     "data": {
      "text/plain": [
       "('fairly', 'sportingly')"
      ]
     },
     "execution_count": 16,
     "metadata": {},
     "output_type": "execute_result"
    }
   ],
   "source": [
    " ## some word to check \n",
    "lemmatizer.lemmatize(\"fairly\",pos='v'),lemmatizer.lemmatize(\"sportingly\",pos='v')\n"
   ]
  },
  {
   "cell_type": "code",
   "execution_count": null,
   "id": "1445900d-6896-47d2-be25-dd8175cabb40",
   "metadata": {},
   "outputs": [],
   "source": []
  }
 ],
 "metadata": {
  "kernelspec": {
   "display_name": "Python 3 (ipykernel)",
   "language": "python",
   "name": "python3"
  },
  "language_info": {
   "codemirror_mode": {
    "name": "ipython",
    "version": 3
   },
   "file_extension": ".py",
   "mimetype": "text/x-python",
   "name": "python",
   "nbconvert_exporter": "python",
   "pygments_lexer": "ipython3",
   "version": "3.11.5"
  }
 },
 "nbformat": 4,
 "nbformat_minor": 5
}
